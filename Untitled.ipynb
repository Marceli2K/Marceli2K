{
  "nbformat": 4,
  "nbformat_minor": 0,
  "metadata": {
    "colab": {
      "name": "Untitled",
      "provenance": [],
      "collapsed_sections": [],
      "authorship_tag": "ABX9TyMEet3UnIhNhM+KGPzvkntO",
      "include_colab_link": true
    },
    "kernelspec": {
      "name": "python3",
      "display_name": "Python 3"
    }
  },
  "cells": [
    {
      "cell_type": "markdown",
      "metadata": {
        "id": "view-in-github",
        "colab_type": "text"
      },
      "source": [
        "<a href=\"https://colab.research.google.com/github/Zaratrusztra/Zaratrusztra/blob/master/Untitled.ipynb\" target=\"_parent\"><img src=\"https://colab.research.google.com/assets/colab-badge.svg\" alt=\"Open In Colab\"/></a>"
      ]
    },
    {
      "cell_type": "markdown",
      "metadata": {
        "id": "p_LO3_lIRI6T",
        "colab_type": "text"
      },
      "source": [
        "## ***Implementacja Algorytmu Stochastycznego Spadku Gradientu***\n",
        "### $L(w) = w^{2} - 4w$   ----   Funkcja Straty\n",
        "### $ \\frac{dL}{dw} = 2 * w -4 $   ----   Pochodna"
      ]
    },
    {
      "cell_type": "code",
      "metadata": {
        "id": "L1Z6ajZjHYv1",
        "colab_type": "code",
        "outputId": "6762fb9e-7be2-45fe-ed93-3e7dd13fc278",
        "colab": {
          "base_uri": "https://localhost:8080/",
          "height": 302
        }
      },
      "source": [
        "import matplotlib.pyplot as plt #wykres\n",
        "import numpy as np  #generowanie danych liczbowych\n",
        "import seaborn as sns  # ładniejsze wykresy\n",
        "\n",
        "sns.set()\n",
        "  \n",
        "w = np.arange(-10, 14, 0.1) # generowanie danych z przedziału -10 do 14  w przedziałach 0.1\n",
        "Loss = w**2 -4*w # liczymy funkcje straty\n",
        "point = -5\n",
        "\n",
        "plt.plot(w, Loss) # rysowanie wykresu funkcji\n",
        "plt.plot(point, point**2-4*point, \"ro\") # dodawanie punktu do wykresu\n",
        "plt.title(\"Loss Function\") "
      ],
      "execution_count": 21,
      "outputs": [
        {
          "output_type": "execute_result",
          "data": {
            "text/plain": [
              "Text(0.5, 1.0, 'Loss Function')"
            ]
          },
          "metadata": {
            "tags": []
          },
          "execution_count": 21
        },
        {
          "output_type": "display_data",
          "data": {
            "image/png": "[encoded data removed]",
            "text/plain": [
              "<Figure size 432x288 with 1 Axes>"
            ]
          },
          "metadata": {
            "tags": []
          }
        }
      ]
    },
    {
      "cell_type": "code",
      "metadata": {
        "id": "EZzE0RV8mNeU",
        "colab_type": "code",
        "colab": {}
      },
      "source": [
        "def gradient_descent(df=lambda w: 2 * w - 4, learning_rate=0.01, max_iters=10000, precision=0.000001,  w_0=-1):\n",
        "    \"\"\"\n",
        "    parametry:\n",
        "    ----------\n",
        "    df: gradient funkcji do optymalizacji\n",
        "    learning_rate: wskaźnik uczenia\n",
        "    max_iters: maksymalna liczba iteracji\n",
        "    precision: precyzja sprawdza kiedy zatrzymać działanie algorytmu\n",
        "    w_0: inicjalizacja wagi początkowej\n",
        "    \"\"\"\n",
        "\n",
        "    # licznik iteracji\n",
        "    iters = 0\n",
        "    # kontrola wartości kroku kolejnego spadku\n",
        "    previous_step_size = 1\n",
        "\n",
        "    points = []\n",
        "    while previous_step_size > precision and iters < max_iters:\n",
        "        w_prev = w_0\n",
        "        w_0 = w_0 - learning_rate * df(w_prev)\n",
        "        previous_step_size = abs(w_0 - w_prev)\n",
        "        iters += 1\n",
        "        points.append(w_0)\n",
        "        print('Iter #{}: current point: {}'.format(iters, w_0))\n",
        "\n",
        "    print('Minimum lokalne znajduje się w punkcie: {}'.format(w_0))\n",
        "    return points"
      ],
      "execution_count": 0,
      "outputs": []
    },
    {
      "cell_type": "code",
      "metadata": {
        "id": "zqyBre-KiUR4",
        "colab_type": "code",
        "colab": {
          "base_uri": "https://localhost:8080/",
          "height": 35
        },
        "outputId": "9fdbe756-1563-4a31-aa2d-f5021c41b015"
      },
      "source": [
        "gradient_descent"
      ],
      "execution_count": 23,
      "outputs": [
        {
          "output_type": "execute_result",
          "data": {
            "text/plain": [
              "<function __main__.gradient_descent>"
            ]
          },
          "metadata": {
            "tags": []
          },
          "execution_count": 23
        }
      ]
    }
  ]
}