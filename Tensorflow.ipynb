{
  "nbformat": 4,
  "nbformat_minor": 0,
  "metadata": {
    "colab": {
      "name": "Tensorflow.ipynb",
      "provenance": [],
      "authorship_tag": "ABX9TyOHu0MGHU4CLaZ6OIOmD8Uz",
      "include_colab_link": true
    },
    "kernelspec": {
      "name": "python3",
      "display_name": "Python 3"
    },
    "accelerator": "GPU"
  },
  "cells": [
    {
      "cell_type": "markdown",
      "metadata": {
        "id": "view-in-github",
        "colab_type": "text"
      },
      "source": [
        "<a href=\"https://colab.research.google.com/github/Zaratrusztra/Zaratrusztra/blob/master/Tensorflow.ipynb\" target=\"_parent\"><img src=\"https://colab.research.google.com/assets/colab-badge.svg\" alt=\"Open In Colab\"/></a>"
      ]
    },
    {
      "cell_type": "markdown",
      "metadata": {
        "id": "dX1aD08ia5Zy"
      },
      "source": [
        "### Pierwsze działania na tensorflow\n"
      ]
    },
    {
      "cell_type": "code",
      "metadata": {
        "id": "IAcl_hAWY5hX"
      },
      "source": [
        "import tensorflow as tf"
      ],
      "execution_count": 1,
      "outputs": []
    },
    {
      "cell_type": "code",
      "metadata": {
        "id": "STHyPq1oZHm_",
        "outputId": "776cb92c-5022-48c3-bbdc-c4af74c09f3b",
        "colab": {
          "base_uri": "https://localhost:8080/",
          "height": 54
        }
      },
      "source": [
        "#łądowanie danych badawczych mnist\n",
        "mnist = tf.keras.datasets.mnist\n",
        "\n",
        "(x_train, y_train), (x_test, y_test) = mnist.load_data()\n",
        "x_train, x_test = x_train / 255.0, x_test / 255.0\n"
      ],
      "execution_count": 2,
      "outputs": [
        {
          "output_type": "stream",
          "text": [
            "Downloading data from https://storage.googleapis.com/tensorflow/tf-keras-datasets/mnist.npz\n",
            "11493376/11490434 [==============================] - 0s 0us/step\n"
          ],
          "name": "stdout"
        }
      ]
    },
    {
      "cell_type": "code",
      "metadata": {
        "id": "CKSBPYxHZQI8"
      },
      "source": [
        "# budowa modelu\n",
        "model = tf.keras.models.Sequential([\n",
        "  tf.keras.layers.Flatten(input_shape=(28, 28)),\n",
        "  tf.keras.layers.Dense(128, activation='relu'),\n",
        "  tf.keras.layers.Dropout(0.2),\n",
        "  tf.keras.layers.Dense(10)\n",
        "])\n"
      ],
      "execution_count": 3,
      "outputs": []
    },
    {
      "cell_type": "code",
      "metadata": {
        "id": "Udpxl_bkZaVg",
        "outputId": "a8884567-2370-4949-fceb-df921cdcfbb1",
        "colab": {
          "base_uri": "https://localhost:8080/",
          "height": 72
        }
      },
      "source": [
        "predictions = model(x_train[:1]).numpy()\n",
        "predictions"
      ],
      "execution_count": 4,
      "outputs": [
        {
          "output_type": "execute_result",
          "data": {
            "text/plain": [
              "array([[-0.470931  ,  0.44867882, -0.09776983,  0.16334832, -0.46656585,\n",
              "        -1.1841568 , -0.58219445,  0.07955148,  0.2620371 , -0.32719514]],\n",
              "      dtype=float32)"
            ]
          },
          "metadata": {
            "tags": []
          },
          "execution_count": 4
        }
      ]
    },
    {
      "cell_type": "code",
      "metadata": {
        "id": "dYKiLt3qZh7O",
        "outputId": "14184b26-2a7f-4618-b596-2ca0ed8382e6",
        "colab": {
          "base_uri": "https://localhost:8080/",
          "height": 72
        }
      },
      "source": [
        "\"\"\" Funkcja tf.nn.softmax konwertuje te logi na „prawdopodobieństwa” dla każdej klasy:\"\"\"\n",
        "\n",
        "tf.nn.softmax(predictions).numpy()\n"
      ],
      "execution_count": 6,
      "outputs": [
        {
          "output_type": "execute_result",
          "data": {
            "text/plain": [
              "array([[0.07039602, 0.17657515, 0.10223744, 0.13274315, 0.07070398,\n",
              "        0.03449833, 0.06298353, 0.12207299, 0.14651163, 0.08127777]],\n",
              "      dtype=float32)"
            ]
          },
          "metadata": {
            "tags": []
          },
          "execution_count": 6
        }
      ]
    },
    {
      "cell_type": "code",
      "metadata": {
        "id": "aaNo6o9PZ0F8"
      },
      "source": [
        "#losses.SparseCategoricalCrossentropy przyjmują wektor logitów oraz indeks True i zwracają stratę skalarną dla każdego przykładu.\n",
        "\n",
        "loss_fn = tf.keras.losses.SparseCategoricalCrossentropy(from_logits=True)\n"
      ],
      "execution_count": 8,
      "outputs": []
    },
    {
      "cell_type": "code",
      "metadata": {
        "id": "fO11A7dZZ9z8",
        "outputId": "87e7557c-55c9-4947-c1cb-bdfbb6d4c44e",
        "colab": {
          "base_uri": "https://localhost:8080/",
          "height": 35
        }
      },
      "source": [
        "loss_fn(y_train[:1], predictions).numpy()\n"
      ],
      "execution_count": 9,
      "outputs": [
        {
          "output_type": "execute_result",
          "data": {
            "text/plain": [
              "3.3668444"
            ]
          },
          "metadata": {
            "tags": []
          },
          "execution_count": 9
        }
      ]
    },
    {
      "cell_type": "code",
      "metadata": {
        "id": "qBbd5YDPaLY5"
      },
      "source": [
        "model.compile(optimizer='adam',\n",
        "              loss=loss_fn,\n",
        "              metrics=['accuracy'])\n"
      ],
      "execution_count": 11,
      "outputs": []
    },
    {
      "cell_type": "code",
      "metadata": {
        "id": "AxiujlGOaO9E",
        "outputId": "7dfa528f-66c6-4c4e-cfb9-5aac7df562e3",
        "colab": {
          "base_uri": "https://localhost:8080/",
          "height": 219
        }
      },
      "source": [
        "#Metoda Model.fit dostosowuje parametry modelu, aby zminimalizować straty:\n",
        "\n",
        "model.fit(x_train, y_train, epochs=5)\n"
      ],
      "execution_count": 12,
      "outputs": [
        {
          "output_type": "stream",
          "text": [
            "Epoch 1/5\n",
            "1875/1875 [==============================] - 3s 2ms/step - loss: 0.2935 - accuracy: 0.9145\n",
            "Epoch 2/5\n",
            "1875/1875 [==============================] - 3s 2ms/step - loss: 0.1412 - accuracy: 0.9578\n",
            "Epoch 3/5\n",
            "1875/1875 [==============================] - 3s 2ms/step - loss: 0.1071 - accuracy: 0.9673\n",
            "Epoch 4/5\n",
            "1875/1875 [==============================] - 3s 2ms/step - loss: 0.0888 - accuracy: 0.9722\n",
            "Epoch 5/5\n",
            "1875/1875 [==============================] - 3s 2ms/step - loss: 0.0756 - accuracy: 0.9769\n"
          ],
          "name": "stdout"
        },
        {
          "output_type": "execute_result",
          "data": {
            "text/plain": [
              "<tensorflow.python.keras.callbacks.History at 0x7f143005aef0>"
            ]
          },
          "metadata": {
            "tags": []
          },
          "execution_count": 12
        }
      ]
    },
    {
      "cell_type": "code",
      "metadata": {
        "id": "o5cnOHhZaX0A",
        "outputId": "b8962eb1-cc29-4ee6-9c39-5dc39a1feb29",
        "colab": {
          "base_uri": "https://localhost:8080/",
          "height": 54
        }
      },
      "source": [
        " #Metoda Model.evaluate sprawdza wydajność modeli, zwykle na „ zestawie walidacyjnym ” lub „ zestawie testowym ”.\n",
        "\n",
        "model.evaluate(x_test,  y_test, verbose=2)\n"
      ],
      "execution_count": 13,
      "outputs": [
        {
          "output_type": "stream",
          "text": [
            "313/313 - 0s - loss: 0.0743 - accuracy: 0.9780\n"
          ],
          "name": "stdout"
        },
        {
          "output_type": "execute_result",
          "data": {
            "text/plain": [
              "[0.07430590689182281, 0.9779999852180481]"
            ]
          },
          "metadata": {
            "tags": []
          },
          "execution_count": 13
        }
      ]
    },
    {
      "cell_type": "code",
      "metadata": {
        "id": "-lOswI0cakCu",
        "outputId": "4b9dbb36-1d72-44e3-9694-0c5fa64a53df",
        "colab": {
          "base_uri": "https://localhost:8080/",
          "height": 311
        }
      },
      "source": [
        "#Jeśli chcesz, aby Twój model zwrócił prawdopodobieństwo, możesz zawinąć wytrenowany model i dołączyć do niego softmax:\n",
        "\n",
        "probability_model = tf.keras.Sequential([\n",
        "  model,\n",
        "  tf.keras.layers.Softmax()\n",
        "])\n",
        "\n",
        "probability_model(x_test[:5])\n"
      ],
      "execution_count": 14,
      "outputs": [
        {
          "output_type": "execute_result",
          "data": {
            "text/plain": [
              "<tf.Tensor: shape=(5, 10), dtype=float32, numpy=\n",
              "array([[1.00249929e-06, 6.62040875e-08, 3.44302225e-06, 6.75813295e-04,\n",
              "        3.42177758e-10, 1.14790873e-06, 6.94867937e-13, 9.99307632e-01,\n",
              "        1.70236297e-06, 9.12531505e-06],\n",
              "       [5.08248320e-07, 7.06785286e-05, 9.99923229e-01, 3.43908346e-06,\n",
              "        1.10908055e-13, 9.13730389e-08, 8.42491090e-07, 2.54338078e-11,\n",
              "        1.18916842e-06, 4.75134376e-11],\n",
              "       [1.13021429e-06, 9.89183784e-01, 8.85974558e-04, 4.26106089e-05,\n",
              "        4.93510270e-05, 8.58535714e-06, 3.49866605e-04, 8.01828224e-03,\n",
              "        1.45968189e-03, 5.98424435e-07],\n",
              "       [9.99960423e-01, 5.01557729e-09, 3.52554634e-05, 5.65165514e-09,\n",
              "        9.64191003e-08, 2.19483269e-07, 4.62177411e-07, 4.36926911e-07,\n",
              "        5.73762093e-10, 3.09488428e-06],\n",
              "       [3.80637721e-05, 1.32364413e-08, 1.62434717e-05, 4.75419768e-07,\n",
              "        9.79033291e-01, 2.15843670e-06, 6.86593785e-06, 2.52763275e-04,\n",
              "        1.04536753e-06, 2.06490625e-02]], dtype=float32)>"
            ]
          },
          "metadata": {
            "tags": []
          },
          "execution_count": 14
        }
      ]
    },
    {
      "cell_type": "markdown",
      "metadata": {
        "id": "PDzAaPLkay1J"
      },
      "source": [
        "### Klasyfikacja podstawowa: Klasyfikuj obrazy odzieży\n"
      ]
    },
    {
      "cell_type": "code",
      "metadata": {
        "id": "cDEtAWHra3vJ",
        "outputId": "02d0aa14-ecf4-44a3-d3c8-2d7cf5fadb8b",
        "colab": {
          "base_uri": "https://localhost:8080/",
          "height": 35
        }
      },
      "source": [
        "# TensorFlow and tf.keras\n",
        "import tensorflow as tf\n",
        "\n",
        "# Helper libraries\n",
        "import numpy as np\n",
        "import matplotlib.pyplot as plt\n",
        "\n",
        "print(tf.__version__)\n"
      ],
      "execution_count": 15,
      "outputs": [
        {
          "output_type": "stream",
          "text": [
            "2.3.0\n"
          ],
          "name": "stdout"
        }
      ]
    }
  ]
}