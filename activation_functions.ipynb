{
  "nbformat": 4,
  "nbformat_minor": 0,
  "metadata": {
    "colab": {
      "name": "activation_functions.ipynb",
      "provenance": [],
      "collapsed_sections": [],
      "authorship_tag": "ABX9TyOWjlFJJ//UT0jCdWKJ+wcR",
      "include_colab_link": true
    },
    "kernelspec": {
      "name": "python3",
      "display_name": "Python 3"
    }
  },
  "cells": [
    {
      "cell_type": "markdown",
      "metadata": {
        "id": "view-in-github",
        "colab_type": "text"
      },
      "source": [
        "<a href=\"https://colab.research.google.com/github/Zaratrusztra/Zaratrusztra/blob/master/activation_functions.ipynb\" target=\"_parent\"><img src=\"https://colab.research.google.com/assets/colab-badge.svg\" alt=\"Open In Colab\"/></a>"
      ]
    },
    {
      "cell_type": "markdown",
      "metadata": {
        "id": "9AHp7Nc4PRaB",
        "colab_type": "text"
      },
      "source": [
        "## Funkcje Aktywacji\n",
        "###ReLU Function\n",
        "$f(x) = max(x, 0)$\n",
        "\n"
      ]
    },
    {
      "cell_type": "code",
      "metadata": {
        "id": "ym7RW-yscaxj",
        "colab_type": "code",
        "colab": {}
      },
      "source": [
        "import numpy as np\n",
        "import matplotlib.pyplot as plt\n",
        "import seaborn as sns\n",
        "sns.set()\n"
      ],
      "execution_count": 0,
      "outputs": []
    },
    {
      "cell_type": "code",
      "metadata": {
        "id": "fYm-LeBGQWip",
        "colab_type": "code",
        "colab": {}
      },
      "source": [
        "def max_relu(x):\n",
        "  return max(x, 0)"
      ],
      "execution_count": 0,
      "outputs": []
    },
    {
      "cell_type": "code",
      "metadata": {
        "id": "6QyVzqV0Qdg_",
        "colab_type": "code",
        "outputId": "389ca087-fc1d-4b90-e2c8-c52fc4bdf739",
        "colab": {
          "base_uri": "https://localhost:8080/",
          "height": 108
        }
      },
      "source": [
        "for i in [-10,-5,0,5,10]:\n",
        "  print(max_relu(i))"
      ],
      "execution_count": 0,
      "outputs": [
        {
          "output_type": "stream",
          "text": [
            "0\n",
            "0\n",
            "0\n",
            "5\n",
            "10\n"
          ],
          "name": "stdout"
        }
      ]
    },
    {
      "cell_type": "code",
      "metadata": {
        "id": "JIiDzhI7Qle2",
        "colab_type": "code",
        "outputId": "74b1e3d0-3438-4c4f-c998-67e57cf91be6",
        "colab": {
          "base_uri": "https://localhost:8080/",
          "height": 302
        }
      },
      "source": [
        "data = np.arange(-5,5,0.1)\n",
        "max_relu_data = [max_relu(x) for x in data]\n",
        "\n",
        "plt.plot(data,max_relu_data)\n",
        "plt.title(\"ReLU Function\")"
      ],
      "execution_count": 0,
      "outputs": [
        {
          "output_type": "execute_result",
          "data": {
            "text/plain": [
              "Text(0.5, 1.0, 'ReLU Function')"
            ]
          },
          "metadata": {
            "tags": []
          },
          "execution_count": 12
        },
        {
          "output_type": "display_data",
          "data": {
            "image/png": "[encoded data removed]",
            "text/plain": [
              "<Figure size 432x288 with 1 Axes>"
            ]
          },
          "metadata": {
            "tags": []
          }
        }
      ]
    },
    {
      "cell_type": "markdown",
      "metadata": {
        "id": "hM7TpJ4vU7x-",
        "colab_type": "text"
      },
      "source": [
        "##Sigmoid Function\n",
        "###$f(x)=\\frac{1}{1+e^{-x}}$"
      ]
    },
    {
      "cell_type": "code",
      "metadata": {
        "id": "N4KEvsVPVyUC",
        "colab_type": "code",
        "colab": {}
      },
      "source": [
        "import numpy as np\n",
        "import matplotlib.pyplot as plt\n",
        "import seaborn as sns\n",
        "sns.set()\n",
        "def sigmoid(x):\n",
        "  return 1.0/(1.0+np.exp(-x))\n",
        " "
      ],
      "execution_count": 0,
      "outputs": []
    },
    {
      "cell_type": "code",
      "metadata": {
        "id": "5gcaQM_pQ0Hm",
        "colab_type": "code",
        "outputId": "5ebbd344-14d9-48d3-91d4-9421f379f250",
        "colab": {
          "base_uri": "https://localhost:8080/",
          "height": 199
        }
      },
      "source": [
        "for i in [-5,-4,-3,-1,0,1,2,3,4,5]:\n",
        "  print(sigmoid(i))"
      ],
      "execution_count": 0,
      "outputs": [
        {
          "output_type": "stream",
          "text": [
            "0.0066928509242848554\n",
            "0.01798620996209156\n",
            "0.04742587317756678\n",
            "0.2689414213699951\n",
            "0.5\n",
            "0.7310585786300049\n",
            "0.8807970779778823\n",
            "0.9525741268224334\n",
            "0.9820137900379085\n",
            "0.9933071490757153\n"
          ],
          "name": "stdout"
        }
      ]
    },
    {
      "cell_type": "code",
      "metadata": {
        "id": "ps_gi99MKjwx",
        "colab_type": "code",
        "outputId": "b4cdb087-925d-40c4-f13c-f6a5b8cb69c4",
        "colab": {
          "base_uri": "https://localhost:8080/",
          "height": 302
        }
      },
      "source": [
        "sigmoid_data = [sigmoid(x) for x in data]\n",
        "\n",
        "plt.plot(data, sigmoid_data)\n",
        "plt.title(\"Sigmoid Functions\")\n"
      ],
      "execution_count": 0,
      "outputs": [
        {
          "output_type": "execute_result",
          "data": {
            "text/plain": [
              "Text(0.5, 1.0, 'Sigmoid Functions')"
            ]
          },
          "metadata": {
            "tags": []
          },
          "execution_count": 15
        },
        {
          "output_type": "display_data",
          "data": {
            "image/png": "[encoded data removed]",
            "text/plain": [
              "<Figure size 432x288 with 1 Axes>"
            ]
          },
          "metadata": {
            "tags": []
          }
        }
      ]
    },
    {
      "cell_type": "markdown",
      "metadata": {
        "id": "G0ztadpiODmj",
        "colab_type": "text"
      },
      "source": [
        "##Softmax Function\n",
        "### $S(y_{i}) = \\frac{e^{yi}}{\\sum e^{y}j}$"
      ]
    },
    {
      "cell_type": "code",
      "metadata": {
        "id": "apPjJ6FFO6Py",
        "colab_type": "code",
        "outputId": "3e037272-04a8-4c32-8712-caa297286f6b",
        "colab": {
          "base_uri": "https://localhost:8080/",
          "height": 143
        }
      },
      "source": [
        "import numpy as np\n",
        "import matplotlib.pyplot as plt\n",
        "import seaborn as sns\n",
        "import pandas as pd\n",
        "\n",
        "sns.set()\n",
        "data = np.random.randn(3,5)\n",
        "data\n",
        "df = pd.DataFrame(data)\n",
        "df"
      ],
      "execution_count": 0,
      "outputs": [
        {
          "output_type": "execute_result",
          "data": {
            "text/html": [
              "<div>\n",
              "<style scoped>\n",
              "    .dataframe tbody tr th:only-of-type {\n",
              "        vertical-align: middle;\n",
              "    }\n",
              "\n",
              "    .dataframe tbody tr th {\n",
              "        vertical-align: top;\n",
              "    }\n",
              "\n",
              "    .dataframe thead th {\n",
              "        text-align: right;\n",
              "    }\n",
              "</style>\n",
              "<table border=\"1\" class=\"dataframe\">\n",
              "  <thead>\n",
              "    <tr style=\"text-align: right;\">\n",
              "      <th></th>\n",
              "      <th>0</th>\n",
              "      <th>1</th>\n",
              "      <th>2</th>\n",
              "      <th>3</th>\n",
              "      <th>4</th>\n",
              "    </tr>\n",
              "  </thead>\n",
              "  <tbody>\n",
              "    <tr>\n",
              "      <th>0</th>\n",
              "      <td>-1.182549</td>\n",
              "      <td>-0.668322</td>\n",
              "      <td>1.773460</td>\n",
              "      <td>-1.539672</td>\n",
              "      <td>-1.608242</td>\n",
              "    </tr>\n",
              "    <tr>\n",
              "      <th>1</th>\n",
              "      <td>-0.271339</td>\n",
              "      <td>0.540586</td>\n",
              "      <td>-0.644417</td>\n",
              "      <td>0.892528</td>\n",
              "      <td>1.457620</td>\n",
              "    </tr>\n",
              "    <tr>\n",
              "      <th>2</th>\n",
              "      <td>-1.065273</td>\n",
              "      <td>0.108426</td>\n",
              "      <td>-0.747323</td>\n",
              "      <td>0.283312</td>\n",
              "      <td>1.632917</td>\n",
              "    </tr>\n",
              "  </tbody>\n",
              "</table>\n",
              "</div>"
            ],
            "text/plain": [
              "          0         1         2         3         4\n",
              "0 -1.182549 -0.668322  1.773460 -1.539672 -1.608242\n",
              "1 -0.271339  0.540586 -0.644417  0.892528  1.457620\n",
              "2 -1.065273  0.108426 -0.747323  0.283312  1.632917"
            ]
          },
          "metadata": {
            "tags": []
          },
          "execution_count": 11
        }
      ]
    },
    {
      "cell_type": "code",
      "metadata": {
        "id": "d7Sa86SwPYj4",
        "colab_type": "code",
        "colab": {}
      },
      "source": [
        "res = np.exp(df)/np.sum(np.exp(df), axis = 0)"
      ],
      "execution_count": 0,
      "outputs": []
    },
    {
      "cell_type": "code",
      "metadata": {
        "id": "5obhzjZyQzjy",
        "colab_type": "code",
        "outputId": "063cfcb5-fc9a-431c-ec91-c47d53124a32",
        "colab": {
          "base_uri": "https://localhost:8080/",
          "height": 127
        }
      },
      "source": [
        "np.sum(res, axis=0)"
      ],
      "execution_count": 0,
      "outputs": [
        {
          "output_type": "execute_result",
          "data": {
            "text/plain": [
              "0    1.0\n",
              "1    1.0\n",
              "2    1.0\n",
              "3    1.0\n",
              "4    1.0\n",
              "dtype: float64"
            ]
          },
          "metadata": {
            "tags": []
          },
          "execution_count": 8
        }
      ]
    },
    {
      "cell_type": "markdown",
      "metadata": {
        "id": "XZFqWr0Fxhc-",
        "colab_type": "text"
      },
      "source": [
        "## Tan h\n",
        "### $tanh(x) = \\frac{e^{z} - e^{-z}}{e^{z} + e^{-z}}$"
      ]
    },
    {
      "cell_type": "code",
      "metadata": {
        "id": "uU1j6bCkyFri",
        "colab_type": "code",
        "colab": {}
      },
      "source": [
        "def tanh(x):\n",
        "  return (np.exp(x)- np.exp(-x)) / (np.exp(x)+ np.exp(-x))\n",
        "  "
      ],
      "execution_count": 0,
      "outputs": []
    },
    {
      "cell_type": "code",
      "metadata": {
        "id": "s_rM953hznR9",
        "colab_type": "code",
        "outputId": "9870efce-6fc4-4877-d6f0-85d6af7bfe16",
        "colab": {
          "base_uri": "https://localhost:8080/",
          "height": 109
        }
      },
      "source": [
        "for i in [-2, -1, 0, 1, 2]:\n",
        "  print(tanh(i))"
      ],
      "execution_count": 0,
      "outputs": [
        {
          "output_type": "stream",
          "text": [
            "-0.964027580075817\n",
            "-0.7615941559557649\n",
            "0.0\n",
            "0.7615941559557649\n",
            "0.964027580075817\n"
          ],
          "name": "stdout"
        }
      ]
    },
    {
      "cell_type": "code",
      "metadata": {
        "id": "08s2XvUt5K0e",
        "colab_type": "code",
        "outputId": "39d16ed7-cc38-426c-fdf8-0b07ffe167da",
        "colab": {
          "base_uri": "https://localhost:8080/",
          "height": 302
        }
      },
      "source": [
        "data = np.arange(-5, 5, 0.1)\n",
        "tanh_data = [tanh(x) for x in data]\n",
        "\n",
        "plt.plot(data, tanh_data)\n",
        "plt.title(\"Tanh Function\")"
      ],
      "execution_count": 0,
      "outputs": [
        {
          "output_type": "execute_result",
          "data": {
            "text/plain": [
              "Text(0.5, 1.0, 'Tanh Function')"
            ]
          },
          "metadata": {
            "tags": []
          },
          "execution_count": 14
        },
        {
          "output_type": "display_data",
          "data": {
            "image/png": "[encoded data removed]",
            "text/plain": [
              "<Figure size 432x288 with 1 Axes>"
            ]
          },
          "metadata": {
            "tags": []
          }
        }
      ]
    }
  ]
}